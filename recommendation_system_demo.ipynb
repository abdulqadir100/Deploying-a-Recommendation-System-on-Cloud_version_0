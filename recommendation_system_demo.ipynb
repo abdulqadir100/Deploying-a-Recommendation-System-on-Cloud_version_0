{
 "cells": [
  {
   "cell_type": "code",
   "execution_count": 1,
   "metadata": {},
   "outputs": [],
   "source": [
    "from recommendation_engine import Movie_recomendation_system,Recommendation_tools"
   ]
  },
  {
   "cell_type": "code",
   "execution_count": 2,
   "metadata": {},
   "outputs": [],
   "source": [
    "user_preference = Recommendation_tools.get_user_preference()"
   ]
  },
  {
   "cell_type": "code",
   "execution_count": 4,
   "metadata": {},
   "outputs": [
    {
     "name": "stdout",
     "output_type": "stream",
     "text": [
      "Wall time: 697 ms\n"
     ]
    },
    {
     "data": {
      "text/plain": [
       "['Usual Suspects, The (1995)',\n",
       " 'Shawshank Redemption, The (1994)',\n",
       " 'Fugitive, The (1993)',\n",
       " 'Groundhog Day (1993)',\n",
       " 'Field of Dreams (1989)',\n",
       " 'Toy Story (1995)',\n",
       " 'Empire Strikes Back, The (1980)',\n",
       " 'Terminator 2: Judgment Day (1991)',\n",
       " 'Stand by Me (1986)',\n",
       " 'Jaws (1975)',\n",
       " 'Pulp Fiction (1994)',\n",
       " 'Heat (1995)']"
      ]
     },
     "execution_count": 4,
     "metadata": {},
     "output_type": "execute_result"
    }
   ],
   "source": [
    "%%time\n",
    "Movie_recomendation_system.recommendation_by_favourite_movie(user_preference,12,'Quiz Show (1994)')"
   ]
  },
  {
   "cell_type": "code",
   "execution_count": 7,
   "metadata": {},
   "outputs": [
    {
     "name": "stdout",
     "output_type": "stream",
     "text": [
      "Wall time: 681 ms\n"
     ]
    },
    {
     "data": {
      "text/plain": [
       "['Terminator 2: Judgment Day (1991)',\n",
       " 'Die Hard (1988)',\n",
       " 'Terminator, The (1984)',\n",
       " 'Star Trek: First Contact (1996)',\n",
       " 'Star Trek: The Wrath of Khan (1982)',\n",
       " 'Raiders of the Lost Ark (1981)',\n",
       " 'Star Wars (1977)',\n",
       " 'Empire Strikes Back, The (1980)',\n",
       " 'Alien (1979)',\n",
       " 'Return of the Jedi (1983)',\n",
       " 'Twelve Monkeys (1995)',\n",
       " 'Monty Python and the Holy Grail (1974)',\n",
       " 'Back to the Future (1985)',\n",
       " 'Jurassic Park (1993)',\n",
       " 'Men in Black (1997)',\n",
       " 'Rock, The (1996)',\n",
       " 'Independence Day (ID4) (1996)',\n",
       " 'Jaws (1975)',\n",
       " 'Aladdin (1992)',\n",
       " 'Hunt for Red October, The (1990)']"
      ]
     },
     "execution_count": 7,
     "metadata": {},
     "output_type": "execute_result"
    }
   ],
   "source": [
    "%%time\n",
    "Movie_recomendation_system.recommendation_by_favourite_movie(user_preference,23,'Aliens (1986)')"
   ]
  },
  {
   "cell_type": "code",
   "execution_count": null,
   "metadata": {},
   "outputs": [],
   "source": []
  }
 ],
 "metadata": {
  "kernelspec": {
   "display_name": "Python 3",
   "language": "python",
   "name": "python3"
  },
  "language_info": {
   "codemirror_mode": {
    "name": "ipython",
    "version": 3
   },
   "file_extension": ".py",
   "mimetype": "text/x-python",
   "name": "python",
   "nbconvert_exporter": "python",
   "pygments_lexer": "ipython3",
   "version": "3.7.6"
  }
 },
 "nbformat": 4,
 "nbformat_minor": 4
}
